{
  "nbformat": 4,
  "nbformat_minor": 0,
  "metadata": {
    "colab": {
      "name": "visualize_attention_reports.ipynb",
      "provenance": [],
      "authorship_tag": "ABX9TyOEV8mRt60gt6FJvcJEYtly",
      "include_colab_link": true
    },
    "kernelspec": {
      "name": "python3",
      "display_name": "Python 3"
    },
    "language_info": {
      "name": "python"
    }
  },
  "cells": [
    {
      "cell_type": "markdown",
      "metadata": {
        "id": "view-in-github",
        "colab_type": "text"
      },
      "source": [
        "<a href=\"https://colab.research.google.com/github/yashgupta-7/689_project/blob/main/visualize_attention_reports.ipynb\" target=\"_parent\"><img src=\"https://colab.research.google.com/assets/colab-badge.svg\" alt=\"Open In Colab\"/></a>"
      ]
    },
    {
      "cell_type": "code",
      "metadata": {
        "colab": {
          "base_uri": "https://localhost:8080/"
        },
        "id": "aPkGQ84VYX7i",
        "outputId": "328ec93f-a1d6-475b-b46b-668af0c4eab5"
      },
      "source": [
        "import json\n",
        "import os\n",
        "import numpy as np\n",
        "import pandas as pd\n",
        "import seaborn as sns\n",
        "from matplotlib import pyplot as plt\n",
        "from matplotlib.colors import LinearSegmentedColormap\n",
        "from mpl_toolkits.axes_grid1.axes_divider import make_axes_locatable\n",
        "from mpl_toolkits.axes_grid1.colorbar import colorbar"
      ],
      "execution_count": 1,
      "outputs": [
        {
          "output_type": "stream",
          "name": "stderr",
          "text": [
            "/usr/local/lib/python3.7/dist-packages/ipykernel_launcher.py:9: MatplotlibDeprecationWarning: \n",
            "The mpl_toolkits.axes_grid1.colorbar module was deprecated in Matplotlib 3.2 and will be removed two minor releases later. Use matplotlib.colorbar instead.\n",
            "  if __name__ == '__main__':\n"
          ]
        }
      ]
    },
    {
      "cell_type": "code",
      "metadata": {
        "colab": {
          "base_uri": "https://localhost:8080/"
        },
        "id": "CAYk0eISW0e4",
        "outputId": "f22b2792-5db6-4e95-b1d3-1adca4ed86da"
      },
      "source": [
        "from google.colab import drive\n",
        "drive.mount('/content/gdrive/')"
      ],
      "execution_count": 2,
      "outputs": [
        {
          "output_type": "stream",
          "name": "stdout",
          "text": [
            "Mounted at /content/gdrive/\n"
          ]
        }
      ]
    },
    {
      "cell_type": "code",
      "metadata": {
        "colab": {
          "base_uri": "https://localhost:8080/"
        },
        "id": "ov3X5ESDW-wP",
        "outputId": "6f6f9963-0b1d-4d28-a096-e7bc6d62504e"
      },
      "source": [
        "%cd /content/gdrive/MyDrive/cs689_project\n",
        "!ls"
      ],
      "execution_count": 3,
      "outputs": [
        {
          "output_type": "stream",
          "name": "stdout",
          "text": [
            "/content/gdrive/MyDrive/cs689_project\n",
            "professions_data  results  winobias_data  winobias.py  winogender_data\n"
          ]
        }
      ]
    },
    {
      "cell_type": "code",
      "metadata": {
        "id": "TWaF4qz1XKHZ"
      },
      "source": [
        "model_version = \"distilgpt2\"\n",
        "filter = \"unfiltered\"\n",
        "fname = f\"winobias_data/attention_intervention_{model_version}_{filter}_dev.json\""
      ],
      "execution_count": 4,
      "outputs": []
    },
    {
      "cell_type": "code",
      "metadata": {
        "id": "Z3aFJt9JX2I7"
      },
      "source": [
        "import json\n",
        "with open(fname) as f:\n",
        "    data = json.load(f)"
      ],
      "execution_count": 5,
      "outputs": []
    },
    {
      "cell_type": "code",
      "metadata": {
        "id": "Npnv_miEX6Uk"
      },
      "source": [
        "results = data['results']\n",
        "df = pd.DataFrame(results)"
      ],
      "execution_count": 6,
      "outputs": []
    },
    {
      "cell_type": "code",
      "metadata": {
        "colab": {
          "base_uri": "https://localhost:8080/",
          "height": 171
        },
        "id": "SwAsu0dAYbbC",
        "outputId": "5bc91187-5c90-4121-c52a-a670f8e31945"
      },
      "source": [
        "def topk_indices(arr, k):\n",
        "    \"\"\"Return indices of top-k values\"\"\"\n",
        "    return (-arr).argsort(axis=None)[:k]\n",
        "\n",
        "source = 'winobias'\n",
        "k = 10\n",
        "# Aggregate by head\n",
        "# Convert column to 3d ndarray (num_examples x num_layers x num_heads)\n",
        "indirect_by_head = np.stack(df['indirect_effect_head'].to_numpy())\n",
        "direct_by_head = np.stack(df['direct_effect_head'].to_numpy())\n",
        "# Average by head\n",
        "mean_indirect_by_head = indirect_by_head.mean(axis=0)\n",
        "mean_direct_by_head = direct_by_head.mean(axis=0)\n",
        "# Select top k heads by indirect effect\n",
        "topk_inds = topk_indices(mean_indirect_by_head, k)\n",
        "\n",
        "# Aggregate by layer\n",
        "# Convert column to 2d ndarray (num_examples x num_layers)\n",
        "indirect_by_layer = np.stack(df['indirect_effect_layer'].to_numpy())\n",
        "direct_by_layer = np.stack(df['direct_effect_layer'].to_numpy())\n",
        "mean_indirect_by_layer = indirect_by_layer.mean(axis=0)\n",
        "mean_direct_by_layer = direct_by_layer.mean(axis=0)\n",
        "n_layers = indirect_by_layer.shape[1]\n",
        "\n",
        "plt.rc('figure', titlesize=20)\n",
        "\n",
        "# Plot stacked bar chart\n",
        "palette = sns.color_palette()#('muted')\n",
        "plt.figure(num=1, figsize=(5, 2))\n",
        "topk_direct = []\n",
        "topk_indirect = []\n",
        "labels = []\n",
        "for ind in topk_inds:\n",
        "    layer, head = np.unravel_index(ind, mean_indirect_by_head.shape)\n",
        "    topk_indirect.append(mean_indirect_by_head[layer, head])\n",
        "    topk_direct.append(mean_direct_by_head[layer, head])\n",
        "    labels.append(f'{layer}-{head}')\n",
        "width = 0.6\n",
        "inds = range(k)\n",
        "p1 = plt.bar(inds, topk_indirect, width, linewidth=0, color=palette[1])\n",
        "p2 = plt.bar(inds, topk_direct, width, bottom=topk_indirect, linewidth=0, color=palette[0])\n",
        "plt.ylabel('Effect', size=11)\n",
        "plt.title('Effects of top heads', fontsize=11)\n",
        "plt.xticks(inds, labels, size=10)\n",
        "plt.yticks(size=10)\n",
        "p3 = plt.axhline(data['mean_total_effect'], linestyle='--')\n",
        "plt.legend((p3, p2[0], p1[0]), ('Total', 'Direct', 'Indirect'), loc='upper right', fontsize=11,\n",
        "            bbox_to_anchor=(.99, 0.90))\n",
        "sns.despine()\n",
        "path = 'results/attention_intervention/stacked_bar_charts'\n",
        "if not os.path.exists(path):\n",
        "    os.makedirs(path)\n",
        "# plt.savefig(f'{path}/{source}_{model_version}_{filter}_.pdf', format='pdf')\n",
        "# plt.close()\n",
        "annot = False"
      ],
      "execution_count": 8,
      "outputs": [
        {
          "output_type": "display_data",
          "data": {
            "image/png": "[encoded data removed]",
            "text/plain": [
              "<Figure size 360x144 with 1 Axes>"
            ]
          },
          "metadata": {
            "needs_background": "light"
          }
        }
      ]
    },
    {
      "cell_type": "code",
      "metadata": {
        "colab": {
          "base_uri": "https://localhost:8080/",
          "height": 253
        },
        "id": "-IOpAk6CYlRz",
        "outputId": "91ff89e8-d671-480b-d351-ae773f48a070"
      },
      "source": [
        "for effect_type in ('indirect', 'direct'):\n",
        "  if effect_type == 'indirect':\n",
        "      mean_effect = mean_indirect_by_head\n",
        "  else:\n",
        "      mean_effect = mean_direct_by_head\n",
        "  ax = sns.heatmap(mean_effect, rasterized=True, annot=annot, annot_kws={\"size\": 9}, fmt=\".2f\", square=True)\n",
        "  ax.set(xlabel='Head', ylabel='Layer', title=f'Mean {effect_type.capitalize()} Effect')\n",
        "  plt.figure(num=1, figsize=(7, 5))\n",
        "  path = f'results/attention_intervention/heat_maps_{effect_type}'\n",
        "  if not os.path.exists(path):\n",
        "      os.makedirs(path)\n",
        "  plt.savefig(f'{path}/{source}_{model_version}_{filter}_.pdf', format='pdf')\n",
        "  # plt.close()"
      ],
      "execution_count": 11,
      "outputs": [
        {
          "output_type": "display_data",
          "data": {
            "image/png": "[encoded data removed]",
            "text/plain": [
              "<Figure size 432x288 with 3 Axes>"
            ]
          },
          "metadata": {
            "needs_background": "light"
          }
        }
      ]
    },
    {
      "cell_type": "code",
      "metadata": {
        "colab": {
          "base_uri": "https://localhost:8080/",
          "height": 336
        },
        "id": "dLs-Sm6Tga4y",
        "outputId": "52318bdf-03db-43b2-adfd-4bb21cbffa2d"
      },
      "source": [
        "for effect_type in ('indirect', 'direct'):\n",
        "    if effect_type == 'indirect':\n",
        "        mean_effect = mean_indirect_by_layer\n",
        "    else:\n",
        "        mean_effect = mean_direct_by_layer\n",
        "    plt.figure(num=1, figsize=(5, 5))\n",
        "    ax = sns.barplot(x=mean_effect, y=list(range(n_layers)), orient=\"h\", color=\"#4472C4\")\n",
        "    ax.set(ylabel='Layer', title=f'Mean {effect_type.capitalize()} Effect')\n",
        "    path = f'results/attention_intervention/layer_{effect_type}'\n",
        "    if not os.path.exists(path):\n",
        "        os.makedirs(path)\n",
        "    plt.savefig(f'{path}/{source}_{model_version}_{filter}.pdf', format='pdf')"
      ],
      "execution_count": 13,
      "outputs": [
        {
          "output_type": "display_data",
          "data": {
            "image/png": "[encoded data removed]",
            "text/plain": [
              "<Figure size 360x360 with 1 Axes>"
            ]
          },
          "metadata": {
            "needs_background": "light"
          }
        }
      ]
    },
    {
      "cell_type": "code",
      "metadata": {
        "colab": {
          "base_uri": "https://localhost:8080/",
          "height": 284
        },
        "id": "JwhUjn5Qgp_u",
        "outputId": "deda4d20-f270-4293-8a77-7e8f7f18c5c1"
      },
      "source": [
        "for do_sort in False, True:\n",
        "  for effect_type in ('indirect', 'direct'):\n",
        "      if effect_type == 'indirect':\n",
        "          effect_head = mean_indirect_by_head\n",
        "          effect_layer = mean_indirect_by_layer\n",
        "          if do_sort:\n",
        "              effect_head = -np.sort(-effect_head) # Sort indirect effects within each layer in descending order\n",
        "      else:\n",
        "          if do_sort:\n",
        "              continue\n",
        "          effect_head = mean_direct_by_head\n",
        "          effect_layer = mean_direct_by_layer\n",
        "      fig = plt.figure(figsize=(3, 2.2))\n",
        "      if model_version == 'distilgpt2':\n",
        "          ax1 = plt.subplot2grid((100, 85), (0, 0), colspan=62, rowspan=99)\n",
        "          ax2 = plt.subplot2grid((100, 85), (32, 69), colspan=17, rowspan=35)\n",
        "      elif model_version in ('gpt2', 'gpt2_random'):\n",
        "          ax1 = plt.subplot2grid((100, 85), (0, 0), colspan=65, rowspan=99)\n",
        "          ax2 = plt.subplot2grid((100, 85), (12, 70), colspan=15, rowspan=75)\n",
        "      elif model_version == 'gpt2-medium':\n",
        "          ax1 = plt.subplot2grid((100, 85), (0, 5), colspan=55, rowspan=99)\n",
        "          ax2 = plt.subplot2grid((100, 85), (2, 64), colspan=17, rowspan=95)\n",
        "      elif model_version == 'gpt2-large':\n",
        "          ax1 = plt.subplot2grid((100, 85), (0, 5), colspan=55, rowspan=96)\n",
        "          ax2 = plt.subplot2grid((100, 85), (0, 62), colspan=17, rowspan=97)\n",
        "      elif model_version == 'gpt2-xl':\n",
        "          ax1 = plt.subplot2grid((100, 85), (0, 5), colspan=55, rowspan=96)\n",
        "          ax2 = plt.subplot2grid((100, 85), (0, 62), colspan=17, rowspan=97)\n",
        "      heatmap = sns.heatmap(effect_head, center=0.0, ax=ax1, annot=annot, annot_kws={\"size\": 9}, fmt=\".2f\", square=True, cbar=False, linewidth=0.1, linecolor='#D0D0D0',\n",
        "      cmap = LinearSegmentedColormap.from_list('rg', [\"#F14100\", \"white\", \"#3D4FC4\"], N=256))\n",
        "      plt.setp(heatmap.get_yticklabels(), fontsize=7)\n",
        "      plt.setp(heatmap.get_xticklabels(), fontsize=7)\n",
        "      heatmap.tick_params(axis='x', pad=1, length=2)\n",
        "      heatmap.tick_params(axis='y', pad=1, length=2)\n",
        "      heatmap.yaxis.labelpad = 2\n",
        "      heatmap.invert_yaxis()\n",
        "      if model_version != 'gpt2-xl':\n",
        "          for i, label in enumerate(heatmap.xaxis.get_ticklabels()):\n",
        "              if i%2 == 1:\n",
        "                  label.set_visible(False)\n",
        "          for i, label in enumerate(heatmap.yaxis.get_ticklabels()):\n",
        "              if i%2 == 1:\n",
        "                  label.set_visible(False)\n",
        "      if do_sort:\n",
        "          heatmap.axes.get_xaxis().set_ticks([])\n",
        "      else:\n",
        "          if model_version == 'gpt2-xl':\n",
        "              every_nth = 2\n",
        "              for n, label in enumerate(ax1.xaxis.get_ticklabels()):\n",
        "                  if n % every_nth != 0:\n",
        "                      label.set_visible(False)\n",
        "              for n, label in enumerate(ax1.yaxis.get_ticklabels()):\n",
        "                  if n % every_nth != 0:\n",
        "                      label.set_visible(False)\n",
        "      # split axes of heatmap to put colorbar\n",
        "      ax_divider = make_axes_locatable(ax1)\n",
        "      if model_version in ('gpt2-large', 'gpt2-xl'):\n",
        "          cax = ax_divider.append_axes('left', size='7%', pad='45%')\n",
        "      else:\n",
        "          cax = ax_divider.append_axes('left', size='7%', pad='33%')\n",
        "      # # make colorbar for heatmap.\n",
        "      # # Heatmap returns an axes obj but you need to get a mappable obj (get_children)\n",
        "      cbar = colorbar(ax1.get_children()[0], cax=cax, orientation='vertical')\n",
        "      cax.yaxis.set_ticks_position('left')\n",
        "      cbar.solids.set_edgecolor(\"face\")\n",
        "      cbar.ax.tick_params(labelsize=7, length=4, pad=2)\n",
        "      ax1.set_title('Head Effect', size=9)\n",
        "      ax1.set_xlabel('Head', size=8)\n",
        "      ax1.set_ylabel('Layer', size=8)\n",
        "      for _, spine in ax1.spines.items():\n",
        "          spine.set_visible(True)\n",
        "      ax2.set_title('         Layer Effect', size=9)\n",
        "      bp = sns.barplot(x=effect_layer, ax=ax2, y=list(range(n_layers)), color=\"#3D4FC4\", orient=\"h\")\n",
        "      plt.setp(bp.get_xticklabels(), fontsize=7)\n",
        "      bp.tick_params(axis='x', pad=1, length=3)\n",
        "      ax2.invert_yaxis()\n",
        "      ax2.set_yticklabels([])\n",
        "      ax2.spines['top'].set_visible(False)\n",
        "      ax2.spines['right'].set_visible(False)\n",
        "      ax2.spines['left'].set_visible(False)\n",
        "      ax2.xaxis.set_ticks_position('bottom')\n",
        "      ax2.axvline(0, linewidth=.85, color='black')\n",
        "      path = f'results/heat_maps_with_bar_{effect_type}{\"_sorted\" if do_sort else \"\"}'\n",
        "      if not os.path.exists(path):\n",
        "          os.makedirs(path)\n",
        "      fname = f'{path}/{source}_{model_version}_{filter}.pdf'\n",
        "      plt.savefig(fname, format='pdf')\n",
        "      # plt.close()"
      ],
      "execution_count": 16,
      "outputs": [
        {
          "output_type": "display_data",
          "data": {
            "image/png": "[encoded data removed]",
            "text/plain": [
              "<Figure size 216x158.4 with 3 Axes>"
            ]
          },
          "metadata": {
            "needs_background": "light"
          }
        },
        {
          "output_type": "display_data",
          "data": {
            "image/png": "[encoded data removed]",
            "text/plain": [
              "<Figure size 216x158.4 with 3 Axes>"
            ]
          },
          "metadata": {
            "needs_background": "light"
          }
        },
        {
          "output_type": "display_data",
          "data": {
            "image/png": "[encoded data removed]",
            "text/plain": [
              "<Figure size 216x158.4 with 3 Axes>"
            ]
          },
          "metadata": {
            "needs_background": "light"
          }
        }
      ]
    },
    {
      "cell_type": "code",
      "metadata": {
        "colab": {
          "base_uri": "https://localhost:8080/",
          "height": 113
        },
        "id": "CIHyB4ulhVX5",
        "outputId": "965bb942-2f00-4a03-ab17-328fb44e5a3b"
      },
      "source": [
        "te = []\n",
        "nde_all = []\n",
        "nie_all = []\n",
        "nie_sum = []\n",
        "model_names = []\n",
        "    \n",
        "indirect_by_head = np.stack(df['indirect_effect_head'].to_numpy())\n",
        "mean_sum_indirect_effect = indirect_by_head.sum(axis=(1, 2)).mean()\n",
        "te.append(data['mean_total_effect'])\n",
        "nde_all.append(data['mean_model_direct_effect'])\n",
        "nie_all.append(data['mean_model_indirect_effect'])\n",
        "nie_sum.append(mean_sum_indirect_effect)\n",
        "model_names.append(model_version)\n",
        "\n",
        "plt.figure(num=1, figsize=(3, 1.2))\n",
        "width = .29\n",
        "inds = np.arange(len(model_names))\n",
        "spacing = 0.015\n",
        "p1 = plt.bar(inds, te, width, color=palette[2], linewidth=0, hatch='/////', edgecolor='darkgreen')\n",
        "p2 = plt.bar(inds + width + spacing, nie_all, width, color=palette[4], linewidth=0, hatch='\\\\\\\\\\\\',\n",
        "              edgecolor='#4E456D')\n",
        "p3 = plt.bar(inds + width + spacing, nde_all, width, bottom=nie_all, color=palette[1], linewidth=0,\n",
        "              hatch='----', edgecolor='#BB592D')\n",
        "p4 = plt.bar(inds + 2 * (width + spacing), nie_sum, width, color=palette[3], linewidth=0, hatch='///',\n",
        "              edgecolor='darkred')\n",
        "\n",
        "plt.gca().tick_params(axis='x', pad=0)\n",
        "plt.gca().tick_params(axis='y', pad=0)\n",
        "plt.gca().yaxis.labelpad = 3\n",
        "plt.ylabel('Effect', size=9)\n",
        "plt.xticks(inds + .3, model_names, size=7)\n",
        "for tick in plt.gca().xaxis.get_minor_ticks():\n",
        "    tick.label1.set_horizontalalignment('center')\n",
        "plt.yticks(size=7)\n",
        "leg = plt.legend((p1[0], p3[0], p2[0], p4[0]), ('TE', 'NDE-all', 'NIE-all', 'NIE-sum'), loc='upper left', fontsize=7)\n",
        "for patch in leg.get_patches():\n",
        "    patch.set_height(7)\n",
        "    patch.set_y(-1)\n",
        "sns.despine()\n",
        "plt.subplots_adjust(left=0.08, right=0.99, top=0.99, bottom=0.15)\n",
        "path = 'results/attention_intervention/'\n",
        "if not os.path.exists(path):\n",
        "    os.makedirs(path)\n",
        "plt.savefig(f'{path}effects.pdf', format='pdf')"
      ],
      "execution_count": 20,
      "outputs": [
        {
          "output_type": "display_data",
          "data": {
            "image/png": "[encoded data removed]",
            "text/plain": [
              "<Figure size 216x86.4 with 1 Axes>"
            ]
          },
          "metadata": {
            "needs_background": "light"
          }
        }
      ]
    },
    {
      "cell_type": "code",
      "metadata": {
        "id": "EgyNmrkniMCr"
      },
      "source": [
        ""
      ],
      "execution_count": null,
      "outputs": []
    }
  ]
}